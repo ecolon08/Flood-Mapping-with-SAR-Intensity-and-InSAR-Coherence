{
 "cells": [
  {
   "cell_type": "markdown",
   "source": [],
   "metadata": {
    "collapsed": false
   }
  },
  {
   "cell_type": "markdown",
   "source": [
    "### Improving Semantic Water Segmentation by Fusing Sentinel-1 Intensity and Interferometric Synthetic Aperture Radar (InSAR) Coherence Data\n",
    "\n",
    "**Author: Ernesto Colon**\n",
    "\n",
    "**The Cooper Union for the Advancement of Science and Art**\n",
    "\n",
    "#### Download Sentinel-2 GRD products from Google Earth Engine\n",
    "\n",
    "The workflow outlined in this notebook is used for generating Sentinel-1 chips for offline model training.\n",
    "\n",
    "The bounding boxes used to generate the Sentinel-1 chips are extracted from the Sen1Floods11 data set.\n",
    "\n",
    "QGIS is used to split the large geojson bounding box into a grid."
   ],
   "metadata": {
    "collapsed": false
   }
  },
  {
   "cell_type": "code",
   "execution_count": null,
   "outputs": [],
   "source": [
    "# Import libraries\n",
    "import geemap\n",
    "import json\n",
    "import ee\n",
    "import os\n",
    "from tqdm import tqdm\n",
    "from datetime import datetime, timedelta"
   ],
   "metadata": {
    "collapsed": false,
    "pycharm": {
     "name": "#%%\n"
    }
   }
  },
  {
   "cell_type": "markdown",
   "source": [
    "**Initialize Google Earth Engine**"
   ],
   "metadata": {
    "collapsed": false
   }
  },
  {
   "cell_type": "code",
   "execution_count": null,
   "outputs": [],
   "source": [
    "ee.Initialize()"
   ],
   "metadata": {
    "collapsed": false,
    "pycharm": {
     "name": "#%%\n"
    }
   }
  },
  {
   "cell_type": "markdown",
   "source": [
    "### Wrapping the workflow into functions\n",
    "\n",
    "The next workflow assumes that we already have geojson bounding boxes for the scenes of interest. These will be needed\n",
    "to intersect the Sentinel-1 scenes in GEE.\n",
    "\n",
    "Moreover, we have also split the bounding boxes from the Sen1Floods11 data set into a rectangular grid using QGIS. This\n",
    "ensures that the requested file size from GEE is of a reasonable size."
   ],
   "metadata": {
    "collapsed": false
   }
  },
  {
   "cell_type": "code",
   "execution_count": null,
   "outputs": [],
   "source": [
    "# define regions of interest\n",
    "regions = ['Bolivia', 'USA', 'Mekong', 'Colombia', 'India', 'Paraguay', 'Sri-Lanka']\n",
    "geojson_dir = \"pth_to_geojson_dir\"\n",
    "\n",
    "# create dictionary with regional geojson paths\n",
    "bbx_json_dict = {'Bolivia' : f\"{geojson_dir}\\\\Bolivia.geojson\",\n",
    "                 'USA' : f\"{geojson_dir}\\\\USA.geojson\",\n",
    "                 'Mekong' : f\"{geojson_dir}\\\\Cambodia.geojson\",\n",
    "                 'Colombia' : f\"{geojson_dir}\\\\Colombia.geojson\",\n",
    "                 'India' : f\"{geojson_dir}\\\\India.geojson\",\n",
    "                 'Paraguay' : f\"{geojson_dir}\\\\Paraguay.geojson\",\n",
    "                 'Sri-Lanka' : f\"{geojson_dir}\\\\Sri-Lanka.geojson\"}\n",
    "\n",
    "# create dictionary with regional grid geojson paths\n",
    "grid_dir = \"pth_to_grid_dir\"\n",
    "grid_json_dict = {'Bolivia' : f\"{grid_dir}\\\\Bolivia\\\\bolivia_grid.geojson\",\n",
    "                  'USA' : f\"{grid_dir}\\\\USA\\\\usa_grid.geojson\",\n",
    "                 'Mekong' : f\"{grid_dir}\\\\Mekong\\\\mekong_grid.geojson\",\n",
    "                 'Colombia' : f\"{grid_dir}\\\\Colombia\\\\colombia_grid.geojson\",\n",
    "                 'India' : f\"{grid_dir}\\\\India\\\\india_grid.geojson\",\n",
    "                 'Paraguay' : f\"{grid_dir}\\\\Paraguay\\\\paraguay_grid.geojson\",\n",
    "                 'Sri-Lanka' : f\"{grid_dir}\\\\Sri-Lanka\\\\srilanka_grid.geojson\"}"
   ],
   "metadata": {
    "collapsed": false,
    "pycharm": {
     "name": "#%%\n"
    }
   }
  },
  {
   "cell_type": "markdown",
   "source": [
    "Loop through the regions and extract the following:\n",
    "\n",
    "- Region geometry\n",
    "\n",
    "- Event dates for filtering"
   ],
   "metadata": {
    "collapsed": false,
    "pycharm": {
     "name": "#%% md\n"
    }
   }
  },
  {
   "cell_type": "code",
   "execution_count": null,
   "outputs": [],
   "source": [
    "bbx_geo_by_reg = dict()\n",
    "s1_event_date_by_reg = dict()\n",
    "\n",
    "grid_feat_by_reg = dict()\n",
    "grid_geom_by_reg = {region : [] for region in regions}\n",
    "\n",
    "for region in regions:\n",
    "\n",
    "    with open(bbx_json_dict[region], 'r') as f:\n",
    "        fc = json.load(f)\n",
    "\n",
    "        # grab the WGS geometry\n",
    "        bbx_geo_by_reg[region] = ee.Geometry(fc['features'][0]['geometry'])\n",
    "\n",
    "        # grab the Sentinel-2 scene date\n",
    "        s1_event_date_by_reg[region] = fc['features'][0]['properties']['s1_date'].replace('/', '-')\n",
    "\n",
    "    with open(grid_json_dict[region]) as file:\n",
    "        file_contents = json.load(file)\n",
    "\n",
    "        grid_feat_by_reg[region] = file_contents['features']\n",
    "\n",
    "        for rectangle in tqdm(range(len(grid_feat_by_reg[region]))):\n",
    "            geom = grid_feat_by_reg[region][rectangle]['geometry']\n",
    "\n",
    "            grid_geom_by_reg[region].append(ee.Geometry(geom))"
   ],
   "metadata": {
    "collapsed": false,
    "pycharm": {
     "name": "#%%\n"
    }
   }
  },
  {
   "cell_type": "markdown",
   "source": [
    "Generate the event start and end dates by region"
   ],
   "metadata": {
    "collapsed": false,
    "pycharm": {
     "name": "#%% md\n"
    }
   }
  },
  {
   "cell_type": "code",
   "execution_count": null,
   "outputs": [],
   "source": [
    "days_to_subtract = 1\n",
    "days_to_add = 1\n",
    "\n",
    "event_dates = {}\n",
    "\n",
    "for region in regions:\n",
    "    event_date = s1_event_date_by_reg[region]\n",
    "\n",
    "    start_date = str((datetime.fromisoformat(event_date) - timedelta(days=days_to_subtract)).date())\n",
    "    end_date = str((datetime.fromisoformat(event_date) + timedelta(days=days_to_add)).date())\n",
    "\n",
    "    event_dates[region] = [start_date, end_date]"
   ],
   "metadata": {
    "collapsed": false,
    "pycharm": {
     "name": "#%%\n"
    }
   }
  },
  {
   "cell_type": "markdown",
   "source": [
    "### Generate the Sentinel-1 Mosaics by region"
   ],
   "metadata": {
    "collapsed": false
   }
  },
  {
   "cell_type": "code",
   "execution_count": null,
   "outputs": [],
   "source": [
    "def generate_s1_mosaic(start_date, end_date, aoi):\n",
    "    \"\"\"\n",
    "    Function to generate Sentinel-1 mosaic using GEE\n",
    "    :param start_date: string with valid date format ('YYYY-MM-DD')\n",
    "    :param end_date: string with valid date format ('YYYY-MM-DD')\n",
    "    :param aoi: GEE geometry with area of interest\n",
    "    :return: GEE image with Sentinel-1 mosaic\n",
    "    \"\"\"\n",
    "    # grab the image collection\n",
    "    s1_ic = ee.ImageCollection('COPERNICUS/S1_GRD')\n",
    "\n",
    "    # filter the image collection based on AOI and dates\n",
    "    s1_ic = s1_ic.filterDate(start_date, end_date).filterBounds(aoi)\n",
    "\n",
    "    #s1_ic.size().getInfo()\n",
    "\n",
    "    # create mosaic\n",
    "    s1_mosaic = s1_ic.mosaic()\n",
    "    print(s1_mosaic.getInfo())\n",
    "\n",
    "    return s1_mosaic"
   ],
   "metadata": {
    "collapsed": false,
    "pycharm": {
     "name": "#%%\n"
    }
   }
  },
  {
   "cell_type": "code",
   "execution_count": null,
   "outputs": [],
   "source": [
    "mosaic_dict = {}\n",
    "\n",
    "for region in regions:\n",
    "    print(f\"Generating Mosaic for region: {region}...\\n\")\n",
    "    mosaic_dict[region] = generate_s1_mosaic(event_dates[region][0], event_dates[region][-1], bbx_geo_by_reg[region])"
   ],
   "metadata": {
    "collapsed": false,
    "pycharm": {
     "name": "#%%\n"
    }
   }
  },
  {
   "cell_type": "markdown",
   "source": [
    "### Download the chips (based off the grids)"
   ],
   "metadata": {
    "collapsed": false
   }
  },
  {
   "cell_type": "code",
   "execution_count": null,
   "outputs": [],
   "source": [
    "import time\n",
    "start_time = start_time = time.time()\n",
    "\n",
    "out_dir = \"out_dir_pth\"\n",
    "\n",
    "for region in regions:\n",
    "    print(f\"Currently downloading region: {region}.. \\n\\n\")\n",
    "\n",
    "    # create output directory if it does not already exist\n",
    "    curr_out_dir = f\"{out_dir}\\\\{region}\"\n",
    "\n",
    "    if not os.path.exists(curr_out_dir):\n",
    "        os.mkdir(curr_out_dir)\n",
    "\n",
    "    for idx, geom in tqdm(enumerate(grid_geom_by_reg[region])):\n",
    "        # cut the mosaic to the aoi\n",
    "        cut_chp = mosaic_dict[region].clip(geom).select(['VV', 'VH'])\n",
    "\n",
    "        fname = f\"{region}_s1_{idx}.tif\"\n",
    "\n",
    "        # save chip to disk\n",
    "        geemap.ee_export_image(cut_chp, filename=f\"{curr_out_dir}\\\\{fname}\", scale=10, region=geom, file_per_band=False)\n",
    "\n",
    "    print(f\"Finished downloading region: {region}.. \\n\\n\")\n",
    "\n",
    "print(f\"Total download time: {time.time() - start_time} seconds\")\n",
    "\n"
   ],
   "metadata": {
    "collapsed": false,
    "pycharm": {
     "name": "#%%\n"
    }
   }
  }
 ],
 "metadata": {
  "kernelspec": {
   "display_name": "Python 3",
   "language": "python",
   "name": "python3"
  },
  "language_info": {
   "codemirror_mode": {
    "name": "ipython",
    "version": 2
   },
   "file_extension": ".py",
   "mimetype": "text/x-python",
   "name": "python",
   "nbconvert_exporter": "python",
   "pygments_lexer": "ipython2",
   "version": "2.7.6"
  }
 },
 "nbformat": 4,
 "nbformat_minor": 0
}